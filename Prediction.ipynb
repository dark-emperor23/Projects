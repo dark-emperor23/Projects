{
 "cells": [
  {
   "cell_type": "code",
   "execution_count": 1,
   "id": "3c57d615-8d90-4ed2-90cc-5159f934b997",
   "metadata": {},
   "outputs": [],
   "source": [
    "import numpy as np\n",
    "import pandas as pd\n",
    "import seaborn as sb\n",
    "import matplotlib.pyplot as plt"
   ]
  },
  {
   "cell_type": "code",
   "execution_count": 2,
   "id": "c1ad76d9-08dc-48a9-9895-2e0779dc8a9c",
   "metadata": {},
   "outputs": [],
   "source": [
    "df=pd.read_csv(\"cleaned_data_1.csv\")"
   ]
  },
  {
   "cell_type": "code",
   "execution_count": 3,
   "id": "87fe3999-7633-4a16-80c0-e5516a312a6f",
   "metadata": {},
   "outputs": [],
   "source": [
    "df=df.astype(float)"
   ]
  },
  {
   "cell_type": "code",
   "execution_count": 4,
   "id": "05eb5045-4ffd-4fbf-8142-dbdc36780624",
   "metadata": {},
   "outputs": [
    {
     "data": {
      "text/html": [
       "<div>\n",
       "<style scoped>\n",
       "    .dataframe tbody tr th:only-of-type {\n",
       "        vertical-align: middle;\n",
       "    }\n",
       "\n",
       "    .dataframe tbody tr th {\n",
       "        vertical-align: top;\n",
       "    }\n",
       "\n",
       "    .dataframe thead th {\n",
       "        text-align: right;\n",
       "    }\n",
       "</style>\n",
       "<table border=\"1\" class=\"dataframe\">\n",
       "  <thead>\n",
       "    <tr style=\"text-align: right;\">\n",
       "      <th></th>\n",
       "      <th>Touchscreen</th>\n",
       "      <th>Bluetooth</th>\n",
       "      <th>Discount Price</th>\n",
       "      <th>Current Price</th>\n",
       "      <th>Original Price</th>\n",
       "      <th>Rating</th>\n",
       "      <th>Number OF Ratings</th>\n",
       "      <th>Battery Life (Days)</th>\n",
       "      <th>Display Size</th>\n",
       "      <th>Weight</th>\n",
       "      <th>...</th>\n",
       "      <th>Multicolor</th>\n",
       "      <th>Orange</th>\n",
       "      <th>Pink</th>\n",
       "      <th>Purple</th>\n",
       "      <th>Red</th>\n",
       "      <th>Rose Gold</th>\n",
       "      <th>Silver</th>\n",
       "      <th>Starlight Sport</th>\n",
       "      <th>White</th>\n",
       "      <th>White Platinum</th>\n",
       "    </tr>\n",
       "  </thead>\n",
       "  <tbody>\n",
       "    <tr>\n",
       "      <th>0</th>\n",
       "      <td>1.0</td>\n",
       "      <td>1.0</td>\n",
       "      <td>-9500.000000</td>\n",
       "      <td>0.035421</td>\n",
       "      <td>0.419833</td>\n",
       "      <td>0.571429</td>\n",
       "      <td>0.071557</td>\n",
       "      <td>0.341176</td>\n",
       "      <td>0.764706</td>\n",
       "      <td>1.000000</td>\n",
       "      <td>...</td>\n",
       "      <td>0.0</td>\n",
       "      <td>0.0</td>\n",
       "      <td>0.0</td>\n",
       "      <td>0.0</td>\n",
       "      <td>0.0</td>\n",
       "      <td>0.0</td>\n",
       "      <td>0.0</td>\n",
       "      <td>0.0</td>\n",
       "      <td>0.0</td>\n",
       "      <td>0.0</td>\n",
       "    </tr>\n",
       "    <tr>\n",
       "      <th>1</th>\n",
       "      <td>1.0</td>\n",
       "      <td>1.0</td>\n",
       "      <td>-4500.000000</td>\n",
       "      <td>0.035421</td>\n",
       "      <td>0.212631</td>\n",
       "      <td>0.714286</td>\n",
       "      <td>0.141926</td>\n",
       "      <td>1.000000</td>\n",
       "      <td>0.764706</td>\n",
       "      <td>0.431143</td>\n",
       "      <td>...</td>\n",
       "      <td>0.0</td>\n",
       "      <td>0.0</td>\n",
       "      <td>0.0</td>\n",
       "      <td>0.0</td>\n",
       "      <td>0.0</td>\n",
       "      <td>0.0</td>\n",
       "      <td>0.0</td>\n",
       "      <td>0.0</td>\n",
       "      <td>0.0</td>\n",
       "      <td>0.0</td>\n",
       "    </tr>\n",
       "    <tr>\n",
       "      <th>2</th>\n",
       "      <td>1.0</td>\n",
       "      <td>1.0</td>\n",
       "      <td>-2500.000000</td>\n",
       "      <td>0.062669</td>\n",
       "      <td>0.171191</td>\n",
       "      <td>0.642857</td>\n",
       "      <td>0.064175</td>\n",
       "      <td>1.000000</td>\n",
       "      <td>0.705882</td>\n",
       "      <td>1.000000</td>\n",
       "      <td>...</td>\n",
       "      <td>0.0</td>\n",
       "      <td>0.0</td>\n",
       "      <td>0.0</td>\n",
       "      <td>0.0</td>\n",
       "      <td>0.0</td>\n",
       "      <td>0.0</td>\n",
       "      <td>0.0</td>\n",
       "      <td>0.0</td>\n",
       "      <td>0.0</td>\n",
       "      <td>0.0</td>\n",
       "    </tr>\n",
       "    <tr>\n",
       "      <th>3</th>\n",
       "      <td>1.0</td>\n",
       "      <td>1.0</td>\n",
       "      <td>-7041.720251</td>\n",
       "      <td>0.457644</td>\n",
       "      <td>0.527546</td>\n",
       "      <td>0.428571</td>\n",
       "      <td>0.001549</td>\n",
       "      <td>0.788235</td>\n",
       "      <td>0.352941</td>\n",
       "      <td>0.431143</td>\n",
       "      <td>...</td>\n",
       "      <td>1.0</td>\n",
       "      <td>0.0</td>\n",
       "      <td>0.0</td>\n",
       "      <td>0.0</td>\n",
       "      <td>0.0</td>\n",
       "      <td>0.0</td>\n",
       "      <td>0.0</td>\n",
       "      <td>0.0</td>\n",
       "      <td>0.0</td>\n",
       "      <td>0.0</td>\n",
       "    </tr>\n",
       "    <tr>\n",
       "      <th>4</th>\n",
       "      <td>1.0</td>\n",
       "      <td>1.0</td>\n",
       "      <td>-3873.000000</td>\n",
       "      <td>0.025258</td>\n",
       "      <td>0.171191</td>\n",
       "      <td>0.285714</td>\n",
       "      <td>0.000540</td>\n",
       "      <td>0.341176</td>\n",
       "      <td>0.764706</td>\n",
       "      <td>0.136364</td>\n",
       "      <td>...</td>\n",
       "      <td>0.0</td>\n",
       "      <td>0.0</td>\n",
       "      <td>0.0</td>\n",
       "      <td>0.0</td>\n",
       "      <td>0.0</td>\n",
       "      <td>0.0</td>\n",
       "      <td>0.0</td>\n",
       "      <td>0.0</td>\n",
       "      <td>0.0</td>\n",
       "      <td>0.0</td>\n",
       "    </tr>\n",
       "  </tbody>\n",
       "</table>\n",
       "<p>5 rows × 219 columns</p>\n",
       "</div>"
      ],
      "text/plain": [
       "   Touchscreen  Bluetooth  Discount Price  Current Price  Original Price  \\\n",
       "0          1.0        1.0    -9500.000000       0.035421        0.419833   \n",
       "1          1.0        1.0    -4500.000000       0.035421        0.212631   \n",
       "2          1.0        1.0    -2500.000000       0.062669        0.171191   \n",
       "3          1.0        1.0    -7041.720251       0.457644        0.527546   \n",
       "4          1.0        1.0    -3873.000000       0.025258        0.171191   \n",
       "\n",
       "     Rating  Number OF Ratings  Battery Life (Days)  Display Size    Weight  \\\n",
       "0  0.571429           0.071557             0.341176      0.764706  1.000000   \n",
       "1  0.714286           0.141926             1.000000      0.764706  0.431143   \n",
       "2  0.642857           0.064175             1.000000      0.705882  1.000000   \n",
       "3  0.428571           0.001549             0.788235      0.352941  0.431143   \n",
       "4  0.285714           0.000540             0.341176      0.764706  0.136364   \n",
       "\n",
       "   ...  Multicolor  Orange  Pink  Purple  Red  Rose Gold  Silver  \\\n",
       "0  ...         0.0     0.0   0.0     0.0  0.0        0.0     0.0   \n",
       "1  ...         0.0     0.0   0.0     0.0  0.0        0.0     0.0   \n",
       "2  ...         0.0     0.0   0.0     0.0  0.0        0.0     0.0   \n",
       "3  ...         1.0     0.0   0.0     0.0  0.0        0.0     0.0   \n",
       "4  ...         0.0     0.0   0.0     0.0  0.0        0.0     0.0   \n",
       "\n",
       "   Starlight Sport  White  White Platinum  \n",
       "0              0.0    0.0             0.0  \n",
       "1              0.0    0.0             0.0  \n",
       "2              0.0    0.0             0.0  \n",
       "3              0.0    0.0             0.0  \n",
       "4              0.0    0.0             0.0  \n",
       "\n",
       "[5 rows x 219 columns]"
      ]
     },
     "execution_count": 4,
     "metadata": {},
     "output_type": "execute_result"
    }
   ],
   "source": [
    "df.head()"
   ]
  },
  {
   "cell_type": "code",
   "execution_count": 5,
   "id": "554b701b-29c2-4151-962e-5cbe6c99ea16",
   "metadata": {},
   "outputs": [],
   "source": [
    "X = df.drop('Discount Price', axis=1)\n",
    "y = df['Discount Price']"
   ]
  },
  {
   "cell_type": "code",
   "execution_count": 6,
   "id": "f3da9848-d88c-4563-9b69-6d6681be54c2",
   "metadata": {},
   "outputs": [],
   "source": [
    "from sklearn.model_selection import train_test_split\n",
    "X_train, X_test, y_train, y_test = train_test_split(X, y, test_size=0.2, random_state=42)"
   ]
  },
  {
   "cell_type": "code",
   "execution_count": 7,
   "id": "0ccd3c68-9b86-4d48-8189-0c10000fca2a",
   "metadata": {},
   "outputs": [
    {
     "name": "stdout",
     "output_type": "stream",
     "text": [
      "0.5383050138948744\n"
     ]
    }
   ],
   "source": [
    "from sklearn.linear_model import LinearRegression\n",
    "from sklearn.metrics import r2_score\n",
    "\n",
    "lr = LinearRegression()\n",
    "lr.fit(X_train, y_train)\n",
    "y_pred = lr.predict(X_test)\n",
    "\n",
    "res = r2_score(y_test, y_pred)\n",
    "print(res)"
   ]
  },
  {
   "cell_type": "code",
   "execution_count": 8,
   "id": "e07bcaf4-d374-4a0e-994f-46a820a88050",
   "metadata": {},
   "outputs": [
    {
     "name": "stdout",
     "output_type": "stream",
     "text": [
      "0.7035487188316895\n"
     ]
    }
   ],
   "source": [
    "from sklearn.tree import DecisionTreeRegressor\n",
    "dt_model = DecisionTreeRegressor()\n",
    "dt_model.fit(X_train, y_train)\n",
    "y_pred = dt_model.predict(X_test)\n",
    "res = r2_score(y_test, y_pred)\n",
    "print(res)"
   ]
  },
  {
   "cell_type": "code",
   "execution_count": 9,
   "id": "63c9a226-b357-4d03-8d15-9792c5aa5815",
   "metadata": {},
   "outputs": [
    {
     "name": "stdout",
     "output_type": "stream",
     "text": [
      "0.7296905747592897\n"
     ]
    }
   ],
   "source": [
    "from sklearn.ensemble import RandomForestRegressor\n",
    "\n",
    "rf_model = RandomForestRegressor()\n",
    "rf_model.fit(X_train, y_train)\n",
    "y_pred = rf_model.predict(X_test)\n",
    "res = r2_score(y_test, y_pred)\n",
    "print(res)"
   ]
  },
  {
   "cell_type": "code",
   "execution_count": 10,
   "id": "fe336873-437f-4b39-8c95-8708eb1e2f90",
   "metadata": {},
   "outputs": [
    {
     "name": "stdout",
     "output_type": "stream",
     "text": [
      "Requirement already satisfied: xgboost in e:\\anaconda\\lib\\site-packages (3.0.0)\n",
      "Requirement already satisfied: numpy in e:\\anaconda\\lib\\site-packages (from xgboost) (1.26.4)\n",
      "Requirement already satisfied: scipy in e:\\anaconda\\lib\\site-packages (from xgboost) (1.13.1)\n",
      "Note: you may need to restart the kernel to use updated packages.\n"
     ]
    }
   ],
   "source": [
    "pip install xgboost"
   ]
  },
  {
   "cell_type": "code",
   "execution_count": 11,
   "id": "6bf274a8-d556-4525-8e72-e1c9d239b7f7",
   "metadata": {},
   "outputs": [
    {
     "name": "stdout",
     "output_type": "stream",
     "text": [
      "0.709141026489519\n"
     ]
    }
   ],
   "source": [
    "import xgboost as xgb\n",
    "\n",
    "model = xgb.XGBRegressor()\n",
    "model.fit(X_train, y_train)\n",
    "y_pred = model.predict(X_test)\n",
    "res = r2_score(y_test, y_pred)\n",
    "print(res)"
   ]
  },
  {
   "cell_type": "code",
   "execution_count": 12,
   "id": "7db16152-efe1-41be-939d-b7e5e7243edd",
   "metadata": {},
   "outputs": [],
   "source": [
    "from sklearn.model_selection import cross_val_score\n"
   ]
  },
  {
   "cell_type": "code",
   "execution_count": 13,
   "id": "11912714-2096-4ee9-9d01-53ba2276b96c",
   "metadata": {},
   "outputs": [
    {
     "name": "stdout",
     "output_type": "stream",
     "text": [
      "0.7780382532751753\n",
      "cross_val_score:  [ 0.60723354  0.44385229 -0.01087962  0.58092624  0.40054264] 0.4043350184953157 0.22196011330585594\n"
     ]
    }
   ],
   "source": [
    "dt_model = DecisionTreeRegressor()\n",
    "dt_model.fit(X_train, y_train)\n",
    "y_pred = dt_model.predict(X_test)\n",
    "res = r2_score(y_test, y_pred)\n",
    "print(res)\n",
    "\n",
    "score = cross_val_score(dt_model, X, y, cv=5, scoring='r2')\n",
    "\n",
    "print('cross_val_score: ', score, score.mean(), score.std())"
   ]
  },
  {
   "cell_type": "code",
   "execution_count": 14,
   "id": "ad2b329f-5316-470b-a0f5-a0719f84d867",
   "metadata": {},
   "outputs": [
    {
     "name": "stdout",
     "output_type": "stream",
     "text": [
      "0.7280497659759435\n",
      "cross_val_score:  [0.59859224 0.49629181 0.71995399 0.71633795 0.42550075] 0.5913353476664094 0.11726504968752287\n"
     ]
    }
   ],
   "source": [
    "rf_model = RandomForestRegressor()\n",
    "rf_model.fit(X_train, y_train)\n",
    "y_pred = rf_model.predict(X_test)\n",
    "res = r2_score(y_test, y_pred)\n",
    "print(res)\n",
    "\n",
    "score = cross_val_score(rf_model, X, y, cv=5, scoring='r2')\n",
    "\n",
    "print('cross_val_score: ', score, score.mean(), score.std())"
   ]
  },
  {
   "cell_type": "code",
   "execution_count": 15,
   "id": "410d13a8-ebb8-4964-b5ce-7d3ccef5ad43",
   "metadata": {},
   "outputs": [
    {
     "name": "stdout",
     "output_type": "stream",
     "text": [
      "0.709141026489519\n",
      "cross_val_score:  [0.85538331 0.62708058 0.68215034 0.788101   0.7493942 ] 0.7404218871202926 0.07976434674497453\n"
     ]
    }
   ],
   "source": [
    "model = xgb.XGBRegressor()\n",
    "model.fit(X_train, y_train)\n",
    "y_pred = model.predict(X_test)\n",
    "res = r2_score(y_test, y_pred)\n",
    "print(res)\n",
    "\n",
    "score = cross_val_score(model, X, y, cv=5, scoring='r2')\n",
    "\n",
    "print('cross_val_score: ', score, score.mean(), score.std())"
   ]
  },
  {
   "cell_type": "code",
   "execution_count": 16,
   "id": "5ec1af44-f592-4b80-baf5-0d65e655bd86",
   "metadata": {},
   "outputs": [],
   "source": [
    "from sklearn.model_selection import GridSearchCV"
   ]
  },
  {
   "cell_type": "code",
   "execution_count": 17,
   "id": "69d7108f-a7cc-4eb5-9dcd-d95e0d1cc4b5",
   "metadata": {},
   "outputs": [
    {
     "name": "stdout",
     "output_type": "stream",
     "text": [
      "0.8200244683979485\n"
     ]
    }
   ],
   "source": [
    "param_gird = {\n",
    "    'n_estimators': [100, 200, 300],\n",
    "    'max_depth': [3, 4, 5],\n",
    "    'learning_rate': [0.01, 0.1, 0.2]\n",
    "}\n",
    "\n",
    "grid_search = GridSearchCV(estimator=model, param_grid=param_gird, cv=5, scoring='r2')\n",
    "grid_search.fit(X_train, y_train)\n",
    "\n",
    "best_params = grid_search.best_params_\n",
    "\n",
    "best_model = xgb.XGBRegressor(**best_params)\n",
    "\n",
    "best_model.fit(X_train, y_train)\n",
    "y_pred = best_model.predict(X_test)\n",
    "r2 = r2_score(y_test, y_pred)\n",
    "print(r2)"
   ]
  },
  {
   "cell_type": "code",
   "execution_count": 18,
   "id": "7ee5d1e4-59f9-4624-bb35-c44202bbe16c",
   "metadata": {},
   "outputs": [
    {
     "data": {
      "image/png": "[encoded data removed]",
      "text/plain": [
       "<Figure size 640x480 with 1 Axes>"
      ]
     },
     "metadata": {},
     "output_type": "display_data"
    }
   ],
   "source": [
    "plt.scatter(y_test, y_pred, alpha=0.5)\n",
    "\n",
    "plt.plot([min(y_test), max(y_test)], [min(y_test), max(y_test)], 'r', linestyle='--')\n",
    "\n",
    "plt.xlabel('Actual Values')\n",
    "plt.ylabel('Predicted Values')\n",
    "plt.title('Actual vs. Predicated velues')\n",
    "plt.show()"
   ]
  },
  {
   "cell_type": "code",
   "execution_count": 19,
   "id": "b2df605c-907f-4891-b0ce-138ca1b3bcc3",
   "metadata": {},
   "outputs": [],
   "source": [
    "import pickle \n",
    "\n",
    "with open('model.pkl', 'wb') as f:\n",
    "    pickle.dump(best_model, f)"
   ]
  },
  {
   "cell_type": "code",
   "execution_count": 20,
   "id": "41ffac4d-8384-445b-aaef-f22f8700d815",
   "metadata": {},
   "outputs": [],
   "source": [
    "with open('model.pkl', 'rb') as f:\n",
    "    xgb_model = pickle.load(f)"
   ]
  },
  {
   "cell_type": "code",
   "execution_count": 21,
   "id": "61783fd1-4ed1-4b7d-a1fd-60e6475c830b",
   "metadata": {},
   "outputs": [
    {
     "name": "stdout",
     "output_type": "stream",
     "text": [
      "0.8200244683979485\n"
     ]
    }
   ],
   "source": [
    "y_pred = xgb_model.predict(X_test)\n",
    "\n",
    "print(r2_score(y_test, y_pred))"
   ]
  }
 ],
 "metadata": {
  "kernelspec": {
   "display_name": "Python 3 (ipykernel)",
   "language": "python",
   "name": "python3"
  },
  "language_info": {
   "codemirror_mode": {
    "name": "ipython",
    "version": 3
   },
   "file_extension": ".py",
   "mimetype": "text/x-python",
   "name": "python",
   "nbconvert_exporter": "python",
   "pygments_lexer": "ipython3",
   "version": "3.12.4"
  }
 },
 "nbformat": 4,
 "nbformat_minor": 5
}
